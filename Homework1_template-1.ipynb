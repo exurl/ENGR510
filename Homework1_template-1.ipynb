{
 "cells": [
  {
   "cell_type": "markdown",
   "id": "a5ada84b-f53f-4925-bf43-621edfa4ce6a",
   "metadata": {},
   "source": [
    "# ENGR 510: Homework 1\n",
    "Due: Tuesday 10/8 at 11:59pm via Gradescope"
   ]
  },
  {
   "cell_type": "code",
   "execution_count": 1,
   "id": "e55a0729-0972-4643-ba71-fbdee5e8bcad",
   "metadata": {},
   "outputs": [],
   "source": [
    "# Import numpy for computations and array manipulations.\n",
    "import numpy as np\n",
    "\n",
    "# Optional: Import matplotlib.pyplot for result plotting.\n",
    "import matplotlib.pyplot as plt"
   ]
  },
  {
   "cell_type": "markdown",
   "id": "91614d38-76e4-4e7d-aea7-7d335b493931",
   "metadata": {},
   "source": [
    "## Problem 1: Root-finding Algorithms"
   ]
  },
  {
   "cell_type": "markdown",
   "id": "9f60d1a9-c461-453c-8071-35eacc5556e0",
   "metadata": {},
   "source": [
    "### Part 1: Newton-Raphson Method"
   ]
  },
  {
   "cell_type": "code",
   "execution_count": 2,
   "id": "868810c8-ac0d-40b3-880a-a1408547b8ae",
   "metadata": {},
   "outputs": [],
   "source": [
    "#######\n",
    "# TODO: Define the vector of x-values found using the Newton-Raphson method.\n",
    "# A1 = ??? (numpy.ndarray)\n",
    "#######\n",
    "A1 = ..."
   ]
  },
  {
   "cell_type": "code",
   "execution_count": null,
   "id": "8fd172f3-2a9a-445f-880a-0129fe375e74",
   "metadata": {},
   "outputs": [],
   "source": [
    "# Optional: Plot the x-values found using the Newton-Raphson method.\n",
    "# This cell does not need to be edited!\n",
    "plt.figure()\n",
    "plt.plot(A1, \".-\")\n",
    "plt.title(\"Newton-Raphson Results\")\n",
    "plt.ylabel(\"$x_n$\")\n",
    "plt.xlabel(\"$n$\")\n",
    "plt.show()"
   ]
  },
  {
   "cell_type": "markdown",
   "id": "18617693-36dd-4428-b257-98139a31438b",
   "metadata": {},
   "source": [
    "### Part 2: Bisection Method"
   ]
  },
  {
   "cell_type": "code",
   "execution_count": 3,
   "id": "5e6a58a8-63e3-45cf-802c-6440050050e6",
   "metadata": {},
   "outputs": [],
   "source": [
    "#######\n",
    "# TODO: Define the vector of x_mid values found using the Bisection method.\n",
    "# A2 = ??? (numpy.ndarray)\n",
    "#######\n",
    "A2 = ..."
   ]
  },
  {
   "cell_type": "code",
   "execution_count": null,
   "id": "a3541c63-a4f1-4a25-ba3d-1c4584d6f40f",
   "metadata": {},
   "outputs": [],
   "source": [
    "# Optional: Plot the x_mid values found using the Bisection method.\n",
    "# This cell does not need to be edited!\n",
    "plt.figure()\n",
    "plt.plot(A2, \".-\")\n",
    "plt.title(\"Bisection Results\")\n",
    "plt.ylabel(\"$x_{mid}$\")\n",
    "plt.xlabel(\"$n$\")\n",
    "plt.show()"
   ]
  },
  {
   "cell_type": "code",
   "execution_count": 4,
   "id": "441af781-5dcf-46d5-8bd5-efae511b8d18",
   "metadata": {},
   "outputs": [],
   "source": [
    "#######\n",
    "# TODO: Define a 2-element vector with the number of iterations for the Newton and Bisection.\n",
    "# A3 = ??? (numpy.ndarray)\n",
    "#######\n",
    "A3 = ..."
   ]
  },
  {
   "cell_type": "markdown",
   "id": "ead34e36-5bdf-43e3-8d78-a159e1b11d9a",
   "metadata": {},
   "source": [
    "## Problem 2: Matrix Calculations"
   ]
  },
  {
   "cell_type": "code",
   "execution_count": 5,
   "id": "58c38754-96b2-41fa-a032-bbef5680f5c3",
   "metadata": {},
   "outputs": [],
   "source": [
    "#######\n",
    "# TODO: Compute all requested matrix calculations.\n",
    "# A4, A5, ..., A12 = ??? (numpy.ndarray, numpy.ndarray, ..., numpy.ndarray)\n",
    "#######\n",
    "A4 = ...\n",
    "A5 = ...\n",
    "A6 = ...\n",
    "A7 = ...\n",
    "A8 = ...\n",
    "A9 = ...\n",
    "A10 = ...\n",
    "A11 = ...\n",
    "A12 = ..."
   ]
  },
  {
   "cell_type": "code",
   "execution_count": null,
   "id": "c236d055-ecf1-4141-aa8a-ba1f6f278877",
   "metadata": {},
   "outputs": [],
   "source": []
  }
 ],
 "metadata": {
  "kernelspec": {
   "display_name": "Python 3 (ipykernel)",
   "language": "python",
   "name": "python3"
  },
  "language_info": {
   "codemirror_mode": {
    "name": "ipython",
    "version": 3
   },
   "file_extension": ".py",
   "mimetype": "text/x-python",
   "name": "python",
   "nbconvert_exporter": "python",
   "pygments_lexer": "ipython3",
   "version": "3.11.5"
  }
 },
 "nbformat": 4,
 "nbformat_minor": 5
}

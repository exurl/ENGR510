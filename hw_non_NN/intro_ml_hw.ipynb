{
 "cells": [
  {
   "cell_type": "markdown",
   "id": "b81883aa-cf36-4ac2-b912-b8571fda8201",
   "metadata": {
    "id": "b81883aa-cf36-4ac2-b912-b8571fda8201"
   },
   "source": [
    "# ENGR 510: Introduction to Non-Neural Network ML"
   ]
  },
  {
   "cell_type": "code",
   "execution_count": 1,
   "id": "69673374-e21c-440d-89d0-2d87647db609",
   "metadata": {
    "id": "69673374-e21c-440d-89d0-2d87647db609"
   },
   "outputs": [],
   "source": [
    "import numpy as np\n",
    "import matplotlib.pyplot as plt\n",
    "from matplotlib.ticker import MultipleLocator\n",
    "\n",
    "# For importing the MNIST data set:\n",
    "from sklearn.datasets import fetch_openml\n",
    "\n",
    "# Scikit-learn PCA model:\n",
    "from sklearn.decomposition import PCA\n",
    "\n",
    "# Scikit-learn LDA model:\n",
    "from sklearn.discriminant_analysis import LinearDiscriminantAnalysis\n",
    "\n",
    "# Scikit-learn SVM classifier:\n",
    "from sklearn.svm import LinearSVC\n",
    "\n",
    "# Scikit-learn decision tree classifier:\n",
    "from sklearn.tree import DecisionTreeClassifier"
   ]
  },
  {
   "cell_type": "markdown",
   "id": "a1ce3800-f643-43a5-8348-e47f9b93ca3e",
   "metadata": {
    "id": "a1ce3800-f643-43a5-8348-e47f9b93ca3e"
   },
   "source": [
    "First, let us import and visualize the MNIST data set by running the following code block.\n",
    "\n",
    "**Please run the cell below. DO NOT edit this cell.**"
   ]
  },
  {
   "cell_type": "code",
   "execution_count": 2,
   "id": "f99be536",
   "metadata": {},
   "outputs": [
    {
     "name": "stdout",
     "output_type": "stream",
     "text": [
      "MNIST data loaded succesfully!\n",
      "Image data: X.shape = (70000, 784)\n",
      "Label data: y.shape = (70000,)\n"
     ]
    }
   ],
   "source": [
    "# Load the MNIST data:\n",
    "mnist = fetch_openml(\"mnist_784\", parser=\"auto\")\n",
    "X = np.array(mnist.data) / 255.0  # Scale the data to [0, 1]\n",
    "y = np.array(mnist.target)\n",
    "\n",
    "# Print some data information:\n",
    "print(\"MNIST data loaded succesfully!\")\n",
    "print(f\"Image data: X.shape = {X.shape}\")\n",
    "print(f\"Label data: y.shape = {y.shape}\")"
   ]
  },
  {
   "cell_type": "code",
   "execution_count": 3,
   "id": "YmG0bR7DC3ya",
   "metadata": {
    "id": "YmG0bR7DC3ya"
   },
   "outputs": [],
   "source": [
    "# # Plot some of the MNIST images.\n",
    "# plt.figure(figsize=(14, 7))\n",
    "# for i in range(15):\n",
    "#     plt.subplot(3, 5, i + 1)\n",
    "#     plt.title(f\"Image {i + 1}\\nLabel = {y[i]}\")\n",
    "#     plt.imshow(X[i, :].reshape(28, 28), cmap='binary')\n",
    "#     plt.colorbar()\n",
    "# plt.tight_layout()\n",
    "# plt.show()"
   ]
  },
  {
   "cell_type": "code",
   "execution_count": 4,
   "id": "4a387d7b",
   "metadata": {},
   "outputs": [],
   "source": [
    "# Mean center the data for PCA.\n",
    "x_mean = np.mean(X, axis=0)\n",
    "X = X - x_mean"
   ]
  },
  {
   "cell_type": "markdown",
   "id": "70a20e63-7374-4749-8f4b-df4cd225a2b0",
   "metadata": {
    "id": "70a20e63-7374-4749-8f4b-df4cd225a2b0"
   },
   "source": [
    "Notice that there are 70,000 images total, with each image being 28 x 28 pixels, or 784 pixels total.\n",
    "\n",
    "Each image comes with a corresponding label, i.e. a number that indicates what digit is inside the image."
   ]
  },
  {
   "cell_type": "markdown",
   "id": "e0c8d3ff-2196-4161-8f3a-f0a560a33f69",
   "metadata": {
    "id": "e0c8d3ff-2196-4161-8f3a-f0a560a33f69"
   },
   "source": [
    "## Part 1: Dimensionality Reduction with PCA"
   ]
  },
  {
   "cell_type": "markdown",
   "id": "97df0227",
   "metadata": {},
   "source": [
    "### 1.1 Perform SVD"
   ]
  },
  {
   "cell_type": "code",
   "execution_count": 5,
   "id": "ab651a64-f800-443d-ad27-9ff9e5e0134f",
   "metadata": {
    "id": "ab651a64-f800-443d-ad27-9ff9e5e0134f"
   },
   "outputs": [
    {
     "name": "stdout",
     "output_type": "stream",
     "text": [
      "SVD: U.shape = (70000, 784)\n",
      "SVD: S.shape = (784,)\n",
      "SVD: V.shape = (784, 784)\n"
     ]
    }
   ],
   "source": [
    "### TODO: Perform SVD analysis.\n",
    "U, S, Vh = np.linalg.svd(X, full_matrices=False)\n",
    "V = Vh.T\n",
    "print(f\"SVD: U.shape = {U.shape}\")\n",
    "print(f\"SVD: S.shape = {S.shape}\")\n",
    "print(f\"SVD: V.shape = {V.shape}\")"
   ]
  },
  {
   "cell_type": "code",
   "execution_count": 6,
   "id": "E-C9cjfxC6WZ",
   "metadata": {
    "id": "E-C9cjfxC6WZ"
   },
   "outputs": [
    {
     "name": "stdout",
     "output_type": "stream",
     "text": [
      "A1.shape = (784, 5)\n"
     ]
    }
   ],
   "source": [
    "### TODO: Save the first five dominant modes.\n",
    "A1 = V[:, 0:5]\n",
    "print(f\"A1.shape = {A1.shape}\")"
   ]
  },
  {
   "cell_type": "code",
   "execution_count": 7,
   "id": "c337eb8d",
   "metadata": {},
   "outputs": [],
   "source": [
    "# # # OPTIONAL: Plot columns of V.\n",
    "# plt.figure(figsize=(14, 2))\n",
    "# for i, v in enumerate(A1.T):\n",
    "#     plt.subplot(1, 5, i + 1)\n",
    "#     plt.title(f\"$v_{i + 1}$\")\n",
    "#     plt.imshow(v.reshape(28, 28), cmap='RdGy', vmin = -0.2, vmax = 0.2)\n",
    "#     plt.colorbar()\n",
    "# plt.tight_layout()\n",
    "# plt.show()"
   ]
  },
  {
   "cell_type": "markdown",
   "id": "83d7cb4a",
   "metadata": {},
   "source": [
    "### 1.2 Reconstruct First MNIST Image"
   ]
  },
  {
   "cell_type": "code",
   "execution_count": 8,
   "id": "exX9-VoeDJcX",
   "metadata": {
    "id": "exX9-VoeDJcX"
   },
   "outputs": [],
   "source": [
    "### TODO: Reconstruct the first MNIST image.\n",
    "r_values = [5, 50, 100, 300, 784]\n",
    "x = X[0]\n",
    "xr = np.zeros((len(r_values), *x.shape))\n",
    "for i, r in enumerate(r_values):\n",
    "    Vr = V[:, 0:r]\n",
    "    xr[i] = Vr @ Vr.T @ x\n",
    "\n",
    "xr = xr + x_mean"
   ]
  },
  {
   "cell_type": "code",
   "execution_count": 9,
   "id": "4bcaeafb",
   "metadata": {},
   "outputs": [],
   "source": [
    "# plt.figure(figsize=(14, 2))\n",
    "# for i, x in enumerate(xr):\n",
    "#     im = xr[i].reshape(28, 28)\n",
    "#     scale_max = np.max(abs(im))\n",
    "#     scale_min = -scale_max\n",
    "#     plt.subplot(1, len(r_values), i+1)\n",
    "#     plt.title(f\"$x_{{{r_values[i]}}}$\")\n",
    "#     plt.imshow(im, cmap='RdGy', vmin=scale_min, vmax=scale_max)\n",
    "#     plt.colorbar()\n",
    "# plt.tight_layout()\n",
    "# plt.savefig(\"1.2fig1.png\", dpi=300)\n",
    "# plt.show()"
   ]
  },
  {
   "cell_type": "markdown",
   "id": "e80d69a4",
   "metadata": {},
   "source": [
    "### 1.3 Examine Singular Value Spectrum"
   ]
  },
  {
   "cell_type": "code",
   "execution_count": 10,
   "id": "b1d4c23d",
   "metadata": {},
   "outputs": [],
   "source": [
    "# ### TODO: Plot the singular values.\n",
    "# N = 100\n",
    "# plt.figure(figsize=(14, 4))\n",
    "# plt.subplot()\n",
    "# plt.xlabel(\"$r$\")\n",
    "# plt.ylabel(\"$\\sigma_r$\")\n",
    "# plt.bar(np.arange(1, len(S[:N])+1), S[:N], width=0.5)\n",
    "# plt.gca().xaxis.set_major_locator(MultipleLocator(5))\n",
    "# plt.xlim(1e-6, N+1)\n",
    "# plt.tight_layout()\n",
    "# plt.savefig(\"1.3fig1.png\", dpi=300)\n",
    "# plt.show()"
   ]
  },
  {
   "cell_type": "code",
   "execution_count": 11,
   "id": "nWUkjW7fDWVS",
   "metadata": {
    "id": "nWUkjW7fDWVS"
   },
   "outputs": [
    {
     "name": "stdout",
     "output_type": "stream",
     "text": [
      "r=331 retains 99.0055029257276% of variance\n",
      "type(A2) = <class 'numpy.int64'>\n"
     ]
    }
   ],
   "source": [
    "eig_sum = np.sum(S*S)\n",
    "for i in np.arange(1, len(S)+1):\n",
    "    variance = np.sum(S[:i]*S[:i]) / eig_sum\n",
    "    if variance >= 0.99:\n",
    "        print(f\"r={i} retains {variance * 100}% of variance\")\n",
    "        r99 = i\n",
    "        break\n",
    "\n",
    "### TODO: Compute the rank truncation r.\n",
    "A2 = r99\n",
    "print(f\"type(A2) = {type(A2)}\")"
   ]
  },
  {
   "cell_type": "code",
   "execution_count": 12,
   "id": "97a4feb2",
   "metadata": {},
   "outputs": [],
   "source": [
    "# # Plot rank truncation\n",
    "# plt.figure(figsize=(14, 4))\n",
    "# plt.subplot()\n",
    "# plt.title(f\"Singular Values\")\n",
    "# plt.xlabel(\"$r$\")\n",
    "# plt.ylabel(\"$\\sigma_r$\")\n",
    "# plt.bar(np.arange(1, len(S)+1), S, width=1)\n",
    "# plt.axvline(r99, c='r')\n",
    "# plt.xlim(1e-6, len(S)+1)\n",
    "# plt.tight_layout()\n",
    "# plt.show()"
   ]
  },
  {
   "cell_type": "markdown",
   "id": "cc5e4e67",
   "metadata": {},
   "source": [
    "### 1.4 PCA Space Visualization"
   ]
  },
  {
   "cell_type": "code",
   "execution_count": 13,
   "id": "LCU03apFDaH-",
   "metadata": {
    "id": "LCU03apFDaH-"
   },
   "outputs": [],
   "source": [
    "r = 350\n",
    "\n",
    "### TODO: Project data onto the 350 leading V modes.\n",
    "X_pca = X @ V[:, 0:r]"
   ]
  },
  {
   "cell_type": "code",
   "execution_count": 14,
   "id": "f98ed9ef",
   "metadata": {},
   "outputs": [],
   "source": [
    "# ### TODO: Plot projected data in 3-D.\n",
    "# num_plot = 500\n",
    "# elevs = [30]\n",
    "# azims = [45]\n",
    "# for i, (elev, azim) in enumerate(zip(elevs, azims)):\n",
    "#     fig = plt.figure()\n",
    "#     ax = fig.add_subplot(projection=\"3d\")\n",
    "#     sc = ax.scatter(\n",
    "#         X_pca[:num_plot, 0],\n",
    "#         X_pca[:num_plot, 1],\n",
    "#         X_pca[:num_plot, 2],\n",
    "#         c=y[:num_plot].astype(int),\n",
    "#         cmap=\"tab10\",\n",
    "#         marker=\".\",\n",
    "#     )\n",
    "#     ax.view_init(elev=elev, azim=azim)\n",
    "#     ax.set_xlabel('$\\sigma_1$')\n",
    "#     ax.set_ylabel('$\\sigma_2$')\n",
    "#     ax.set_zlabel('$\\sigma_3$')\n",
    "#     plt.colorbar(sc)\n",
    "#     plt.tight_layout()\n",
    "#     plt.savefig(f\"1.4fig{i+1}.png\", dpi=300)\n",
    "# plt.show()"
   ]
  },
  {
   "cell_type": "markdown",
   "id": "807e2653-4266-4083-bd8b-d484dc7270e1",
   "metadata": {
    "id": "807e2653-4266-4083-bd8b-d484dc7270e1"
   },
   "source": [
    "## Part 2: MNIST Digit Classification"
   ]
  },
  {
   "cell_type": "markdown",
   "id": "QNf1LEPGDs9r",
   "metadata": {
    "id": "QNf1LEPGDs9r"
   },
   "source": [
    "First, obtain the rank $r=350$ PCA-projected data.\n",
    "\n",
    "**Please run the cell below. DO NOT edit this cell.**"
   ]
  },
  {
   "cell_type": "code",
   "execution_count": 15,
   "id": "f-Vx4_lGD9-v",
   "metadata": {
    "id": "f-Vx4_lGD9-v"
   },
   "outputs": [
    {
     "name": "stdout",
     "output_type": "stream",
     "text": [
      "PCA image data: X_pca.shape = (70000, 350)\n",
      "Label data: y.shape = (70000,)\n"
     ]
    }
   ],
   "source": [
    "# Use Scikit-learn PCA model to reduce the data.\n",
    "pca = PCA(n_components=350)\n",
    "X_pca = pca.fit_transform(X)\n",
    "\n",
    "print(f\"PCA image data: X_pca.shape = {X_pca.shape}\")\n",
    "print(f\"Label data: y.shape = {y.shape}\")"
   ]
  },
  {
   "cell_type": "markdown",
   "id": "znAP3zeIECQ9",
   "metadata": {
    "id": "znAP3zeIECQ9"
   },
   "source": [
    "The following code has been provided to help you with digit extraction and train / test splitting.\n",
    "\n",
    "Feel free to use or not use this code, but please read the documentation carefully!"
   ]
  },
  {
   "cell_type": "code",
   "execution_count": 16,
   "id": "c11wruXUEVQx",
   "metadata": {
    "id": "c11wruXUEVQx"
   },
   "outputs": [
    {
     "name": "stdout",
     "output_type": "stream",
     "text": [
      "Training data: X_train.shape = (13661, 350)\n",
      "Training labels: y_train.shape = (13661,) y_train = ['9' '9' '0' ... '0' '9' '0']\n",
      "Testing data: X_test.shape = (200, 350)\n",
      "Testing labels: y_test.shape = (200,) y_test[:10] = ['0' '9' '9' '0' '9' '9' '0' '0' '9' '9']\n"
     ]
    }
   ],
   "source": [
    "def get_digit_data(\n",
    "    X: np.ndarray,\n",
    "    y: np.ndarray,\n",
    "    digit_list: list,\n",
    "    n_test: int,\n",
    "):\n",
    "    \"\"\"\n",
    "    Helper function that takes the given data+labels, extracts the data+labels\n",
    "    containing the desired digits, and returns a training / testing data split.\n",
    "\n",
    "    Args:\n",
    "        X = (n_samples, n_features) np.ndarray of data.\n",
    "        y = (n_samples,) np.ndarray of corresponding labels.\n",
    "        digit_list = list of desired MNIST digits to filter out.\n",
    "        n_test = integer number of digits to take for the test set.\n",
    "            The first n_test digits are always taken for the test set.\n",
    "    Returns:\n",
    "        1. (n_train, n_features) np.ndarray of training data.\n",
    "        2. (n_train,) np.ndarray of training data labels.\n",
    "        3. (n_test, n_features) np.ndarray of test data.\n",
    "        4. (n_test,) np.ndarray of test data labels.\n",
    "    \"\"\"\n",
    "    inds_test = np.array([], dtype=int)\n",
    "    inds_train = np.array([], dtype=int)\n",
    "\n",
    "    for digit in digit_list:\n",
    "        digit_inds = np.where(y.astype(int) == digit)[0]\n",
    "        inds_test = np.union1d(inds_test, digit_inds[:n_test])\n",
    "        inds_train = np.union1d(inds_train, digit_inds[n_test:])\n",
    "\n",
    "    return X[inds_train], y[inds_train], X[inds_test], y[inds_test]\n",
    "\n",
    "# EXAMPLE: How to form a training / testing data split on the PCA projected data\n",
    "# using the digits 0, 9 while setting the first 100 samples aside per digit for testing.\n",
    "X_train, y_train, X_test, y_test = get_digit_data(X_pca, y, digit_list=[0, 9], n_test=100)\n",
    "print(f\"Training data: X_train.shape = {X_train.shape}\")\n",
    "print(f\"Training labels: y_train.shape = {y_train.shape} y_train = {y_train}\")\n",
    "print(f\"Testing data: X_test.shape = {X_test.shape}\")\n",
    "print(f\"Testing labels: y_test.shape = {y_test.shape} y_test[:10] = {y_test[:10]}\")"
   ]
  },
  {
   "cell_type": "code",
   "execution_count": 17,
   "id": "H8uk2nVPPyCf",
   "metadata": {
    "id": "H8uk2nVPPyCf"
   },
   "outputs": [],
   "source": [
    "### TODO: Implement classification accuracy percentage.\n",
    "def compute_accuracy(y, y_true):\n",
    "    \"\"\"\n",
    "    Args:\n",
    "        y = (n_samples,) np.ndarray of computed labels.\n",
    "        y_true = (n_samples,) np.ndarray of true labels.\n",
    "    Returns:\n",
    "        Classification accuracy percentage as a float.\n",
    "    \"\"\"\n",
    "    y = np.array(y)\n",
    "    y_true = np.array(y_true)\n",
    "    return np.sum(y == y_true)/len(y)*100"
   ]
  },
  {
   "cell_type": "markdown",
   "id": "3999e210",
   "metadata": {},
   "source": [
    "### 2.1 LDA with 3 and 4"
   ]
  },
  {
   "cell_type": "code",
   "execution_count": 18,
   "id": "9F_A-B6XE_zw",
   "metadata": {
    "id": "9F_A-B6XE_zw"
   },
   "outputs": [
    {
     "name": "stdout",
     "output_type": "stream",
     "text": [
      "Train accuracy: 99.3%\n",
      "Test accuracy: 98.0%\n",
      "A3.shape = (2,)\n"
     ]
    }
   ],
   "source": [
    "# TODO: Fit an LDA model using the digits 3, 4.\n",
    "X_train, y_train, X_test, y_test = get_digit_data(X_pca, y, digit_list=[3, 4], n_test=100)\n",
    "\n",
    "lda = LinearDiscriminantAnalysis()\n",
    "lda.fit(X_train, y_train)\n",
    "\n",
    "y_train_predict = lda.predict(X_train)\n",
    "y_test_predict = lda.predict(X_test)\n",
    "\n",
    "train_accuracy = compute_accuracy(y_train_predict, y_train)\n",
    "test_accuracy = compute_accuracy(y_test_predict, y_test)\n",
    "print(f\"Train accuracy: {train_accuracy:.1f}%\")\n",
    "print(f\"Test accuracy: {test_accuracy:.1f}%\")\n",
    "\n",
    "A3 = np.array([train_accuracy, test_accuracy])\n",
    "print(f\"A3.shape = {A3.shape}\")"
   ]
  },
  {
   "cell_type": "markdown",
   "id": "a48bf623",
   "metadata": {},
   "source": [
    "### 2.2 LDA with 3, 5, and 9"
   ]
  },
  {
   "cell_type": "code",
   "execution_count": 19,
   "id": "30w4SR_2FDN1",
   "metadata": {
    "id": "30w4SR_2FDN1"
   },
   "outputs": [
    {
     "name": "stdout",
     "output_type": "stream",
     "text": [
      "Train accuracy: 95.3%\n",
      "Test accuracy: 93.7%\n",
      "A4.shape = (2,)\n"
     ]
    }
   ],
   "source": [
    "# TODO: Fit an LDA model using the digits 3, 5, 9.\n",
    "X_train, y_train, X_test, y_test = get_digit_data(X_pca, y, digit_list=[3, 5, 9], n_test=100)\n",
    "\n",
    "lda = LinearDiscriminantAnalysis()\n",
    "lda.fit(X_train, y_train)\n",
    "\n",
    "y_train_predict = lda.predict(X_train)\n",
    "y_test_predict = lda.predict(X_test)\n",
    "\n",
    "train_accuracy = compute_accuracy(y_train_predict, y_train)\n",
    "test_accuracy = compute_accuracy(y_test_predict, y_test)\n",
    "print(f\"Train accuracy: {train_accuracy:.1f}%\")\n",
    "print(f\"Test accuracy: {test_accuracy:.1f}%\")\n",
    "\n",
    "A4 = np.array([train_accuracy, test_accuracy])\n",
    "print(f\"A4.shape = {A4.shape}\")"
   ]
  },
  {
   "cell_type": "markdown",
   "id": "aabe9f4d",
   "metadata": {},
   "source": [
    "### 2.3 Hardest LDA Pair"
   ]
  },
  {
   "cell_type": "code",
   "execution_count": 20,
   "id": "VXx82tP4FRRK",
   "metadata": {
    "id": "VXx82tP4FRRK"
   },
   "outputs": [],
   "source": [
    "# TODO: Fit an LDA model using all digit pairs.\n",
    "# X_train, y_train, X_test, y_test = get_digit_data(X_pca, y, digit_list=np.arange(0, 10), n_test=100)\n",
    "\n",
    "# lda = LinearDiscriminantAnalysis()\n",
    "# lda.fit(X_train, y_train)\n",
    "\n",
    "# y_train_predict = lda.predict(X_train)\n",
    "# y_test_predict = lda.predict(X_test)\n",
    "\n",
    "# train_accuracy = compute_accuracy(y_train_predict, y_train)\n",
    "# test_accuracy = compute_accuracy(y_test_predict, y_test)\n",
    "# print(f\"Train accuracy: {train_accuracy:.1f}%\")\n",
    "# print(f\"Test accuracy: {test_accuracy:.1f}%\")"
   ]
  },
  {
   "cell_type": "code",
   "execution_count": 21,
   "id": "829bcab2",
   "metadata": {},
   "outputs": [],
   "source": [
    "# function to perform LDA of given digits\n",
    "def lda_process(digit_list, n_test):\n",
    "    X_train, y_train, X_test, y_test = get_digit_data(X_pca, y, digit_list, n_test)\n",
    "    lda = LinearDiscriminantAnalysis()\n",
    "    lda.fit(X_train, y_train)\n",
    "    y_train_predict = lda.predict(X_train)\n",
    "    y_test_predict = lda.predict(X_test)\n",
    "    train_accuracy = compute_accuracy(y_train_predict, y_train)\n",
    "    test_accuracy = compute_accuracy(y_test_predict, y_test)\n",
    "    return lda, train_accuracy, test_accuracy"
   ]
  },
  {
   "cell_type": "code",
   "execution_count": 22,
   "id": "f19158c2",
   "metadata": {},
   "outputs": [],
   "source": [
    "# LDA for all pairs\n",
    "n_test = 500\n",
    "pair_train_accuracy = np.zeros((10, 10))\n",
    "pair_test_accuracy = np.zeros((10, 10))\n",
    "digits = np.arange(0, 10)\n",
    "for i, j in zip(*np.triu_indices(len(digits), 1)):\n",
    "    _, _train_accuracy, _test_accuracy = lda_process([digits[i], digits[j]], n_test)\n",
    "    pair_train_accuracy[i, j] = _train_accuracy\n",
    "    pair_test_accuracy[i, j] = _test_accuracy"
   ]
  },
  {
   "cell_type": "code",
   "execution_count": 23,
   "id": "5d781115",
   "metadata": {},
   "outputs": [],
   "source": [
    "# # Plot pairs\n",
    "# fig = plt.figure()\n",
    "# ax = plt.subplot()\n",
    "# im = ax.imshow((pair_test_accuracy-95).clip(min=0))\n",
    "# ax.set_xticks(digits, labels=digits)\n",
    "# ax.set_yticks(digits, labels=digits)\n",
    "# plt.colorbar(im)\n",
    "# plt.title(\"Accuracy (over 95%)\")\n",
    "# plt.show()\n",
    "\n",
    "# print(pair_test_accuracy)"
   ]
  },
  {
   "cell_type": "code",
   "execution_count": 24,
   "id": "r-SoySSdFglq",
   "metadata": {
    "id": "r-SoySSdFglq"
   },
   "outputs": [
    {
     "name": "stdout",
     "output_type": "stream",
     "text": [
      "Hardest pair: 3 and 5 with training accuracy 96.1% and testing accuracy 95.5%\n",
      "A5 = [3 5]\n",
      "A6 = [96.12172796 95.5       ]\n"
     ]
    }
   ],
   "source": [
    "# Find hardest pair\n",
    "acc_flattened = pair_test_accuracy.flatten()\n",
    "nonzero_idxs = np.nonzero(acc_flattened)[0]\n",
    "idx_hardest = nonzero_idxs[np.argmin(acc_flattened[nonzero_idxs])]\n",
    "i, j = np.unravel_index(idx_hardest, pair_test_accuracy.shape)\n",
    "hardest = [i, j]\n",
    "hardest_digits = np.sort(digits[hardest])\n",
    "hardest_accuracy = np.array([pair_train_accuracy[hardest[0], hardest[1]], pair_test_accuracy[hardest[0], hardest[1]]])\n",
    "\n",
    "print(f\"Hardest pair: {hardest_digits[0]} and {hardest_digits[1]} with training accuracy {hardest_accuracy[0]:.1f}% and testing accuracy {hardest_accuracy[1]:.1f}%\")\n",
    "\n",
    "# TODO: Plot the hardest digit pair.\n",
    "A5 = hardest_digits\n",
    "A6 = hardest_accuracy\n",
    "print(f\"A5 = {A5}\")\n",
    "print(f\"A6 = {A6}\")"
   ]
  },
  {
   "cell_type": "markdown",
   "id": "2b40ae4d",
   "metadata": {},
   "source": [
    "### 2.4 Easiest LDA Pair"
   ]
  },
  {
   "cell_type": "code",
   "execution_count": 25,
   "id": "2cf9596c",
   "metadata": {},
   "outputs": [
    {
     "name": "stdout",
     "output_type": "stream",
     "text": [
      "Easiest pair: 6 and 7 with training accuracy 99.8% and testing accuracy 99.7%\n",
      "A7 = [6 7]\n",
      "A8 = [99.80256663 99.7       ]\n"
     ]
    }
   ],
   "source": [
    "# Find easiest pair\n",
    "idx_easiest = nonzero_idxs[np.argmax(acc_flattened[nonzero_idxs])]\n",
    "i, j = np.unravel_index(idx_easiest, pair_test_accuracy.shape)\n",
    "easiest = [i, j]\n",
    "easiest_digits = np.sort(digits[easiest])\n",
    "easiest_accuracy = np.array([pair_train_accuracy[easiest[0], easiest[1]], pair_test_accuracy[easiest[0], easiest[1]]])\n",
    "\n",
    "print(f\"Easiest pair: {easiest_digits[0]} and {easiest_digits[1]} with training accuracy {easiest_accuracy[0]:.1f}% and testing accuracy {easiest_accuracy[1]:.1f}%\")\n",
    "\n",
    "# TODO: Plot the easiest digit pair.\n",
    "A7 = easiest_digits\n",
    "A8 = easiest_accuracy\n",
    "print(f\"A7 = {A7}\")\n",
    "print(f\"A8 = {A8}\")"
   ]
  },
  {
   "cell_type": "markdown",
   "id": "8e9476aa",
   "metadata": {},
   "source": [
    "### 2.5 Hardest and Easiest Pair PCA Space Visualization"
   ]
  },
  {
   "cell_type": "code",
   "execution_count": 26,
   "id": "81577358",
   "metadata": {},
   "outputs": [],
   "source": [
    "# ### TODO: Plot projected data in 3-D.\n",
    "# X_hardest, y_hardest, _, _ = get_digit_data(X_pca, y, hardest_digits, 0)\n",
    "# X_easiest, y_easiest, _, _ = get_digit_data(X_pca, y, easiest_digits, 0)\n",
    "\n",
    "# num_plot = 500\n",
    "# elevs = [60]\n",
    "# azims = [45]\n",
    "# colors = ['tab:blue', 'tab:orange']\n",
    "# for i, (_X, _y, _digits) in enumerate(zip([X_hardest, X_easiest], [y_hardest, y_easiest], [hardest_digits, easiest_digits])):\n",
    "#     _y = np.float64(_y)\n",
    "#     for j, (elev, azim) in enumerate(zip(elevs, azims)):\n",
    "#         fig = plt.figure()\n",
    "#         ax = plt.subplot(projection=\"3d\")\n",
    "#         for k in range(2):\n",
    "#             mask = _y[:num_plot]==_digits[k]\n",
    "#             sc = ax.scatter(\n",
    "#                 _X[:num_plot][mask, 0],\n",
    "#                 _X[:num_plot][mask, 1],\n",
    "#                 _X[:num_plot][mask, 2],\n",
    "#                 c=[colors[k]]*np.count_nonzero(mask),\n",
    "#                 marker=\".\",\n",
    "#                 label=str(_digits[k])\n",
    "#             )\n",
    "#         ax.view_init(elev=elev, azim=azim)\n",
    "#         ax.set_xlabel('$\\sigma_1$')\n",
    "#         ax.set_ylabel('$\\sigma_2$')\n",
    "#         ax.set_zlabel('$\\sigma_3$')\n",
    "#         plt.legend()\n",
    "#         plt.tight_layout()\n",
    "#         plt.savefig(f\"2.5fig{i+1}.png\", dpi=300)\n",
    "# plt.show()"
   ]
  },
  {
   "cell_type": "markdown",
   "id": "52a8f44f",
   "metadata": {},
   "source": [
    "### 2.6 SVM"
   ]
  },
  {
   "cell_type": "code",
   "execution_count": 27,
   "id": "nZXcbLQRhHo5",
   "metadata": {
    "id": "nZXcbLQRhHo5"
   },
   "outputs": [
    {
     "name": "stdout",
     "output_type": "stream",
     "text": [
      "Train accuracy: 97.0%\n",
      "Test accuracy: 96.4%\n",
      "A9 = [96.9662667 96.4      ]\n"
     ]
    }
   ],
   "source": [
    "# TODO: Fit an SVM model using the digits 7, 9.\n",
    "X_train, y_train, X_test, y_test = get_digit_data(X_pca, y, [7, 9], 500)\n",
    "\n",
    "svm = LinearSVC()\n",
    "svm.fit(X_train, y_train)\n",
    "\n",
    "y_train_predict = svm.predict(X_train)\n",
    "y_test_predict = svm.predict(X_test)\n",
    "\n",
    "train_accuracy = compute_accuracy(y_train_predict, y_train)\n",
    "test_accuracy = compute_accuracy(y_test_predict, y_test)\n",
    "print(f\"Train accuracy: {train_accuracy:.1f}%\")\n",
    "print(f\"Test accuracy: {test_accuracy:.1f}%\")\n",
    "\n",
    "A9 = np.array([train_accuracy, test_accuracy])\n",
    "print(f\"A9 = {A9}\")"
   ]
  },
  {
   "cell_type": "code",
   "execution_count": 28,
   "id": "IHwaEhx4GOy2",
   "metadata": {
    "id": "IHwaEhx4GOy2"
   },
   "outputs": [
    {
     "name": "stdout",
     "output_type": "stream",
     "text": [
      "Train accuracy: 100.0%\n",
      "Test accuracy: 100.0%\n",
      "A10 = [100. 100.]\n"
     ]
    }
   ],
   "source": [
    "# TODO: Fit an SVM model using the digits 1, 6.\n",
    "X_train, y_train, X_test, y_test = get_digit_data(X_pca, y, [1, 6], 500)\n",
    "\n",
    "svm = LinearSVC()\n",
    "svm.fit(X_train, y_train)\n",
    "\n",
    "y_train_predict = svm.predict(X_train)\n",
    "y_test_predict = svm.predict(X_test)\n",
    "\n",
    "train_accuracy = compute_accuracy(y_train_predict, y_train)\n",
    "test_accuracy = compute_accuracy(y_test_predict, y_test)\n",
    "print(f\"Train accuracy: {train_accuracy:.1f}%\")\n",
    "print(f\"Test accuracy: {test_accuracy:.1f}%\")\n",
    "\n",
    "A10 = np.array([train_accuracy, test_accuracy])\n",
    "print(f\"A10 = {A10}\")"
   ]
  },
  {
   "cell_type": "markdown",
   "id": "e2ec838d",
   "metadata": {},
   "source": [
    "### 2.7 Decision Tree"
   ]
  },
  {
   "cell_type": "code",
   "execution_count": 29,
   "id": "z52Zxsv4sU77",
   "metadata": {
    "id": "z52Zxsv4sU77"
   },
   "outputs": [
    {
     "name": "stdout",
     "output_type": "stream",
     "text": [
      "Train accuracy: 100.0%\n",
      "Test accuracy: 88.8%\n",
      "A11 = [100.   88.8]\n"
     ]
    }
   ],
   "source": [
    "# TODO: Fit a decision tree using the digits 4, 9.\n",
    "X_train, y_train, X_test, y_test = get_digit_data(X_pca, y, [4, 9], 500)\n",
    "\n",
    "tree = DecisionTreeClassifier(random_state=1234)\n",
    "tree.fit(X_train, y_train)\n",
    "\n",
    "y_train_predict = tree.predict(X_train)\n",
    "y_test_predict = tree.predict(X_test)\n",
    "\n",
    "train_accuracy = compute_accuracy(y_train_predict, y_train)\n",
    "test_accuracy = compute_accuracy(y_test_predict, y_test)\n",
    "print(f\"Train accuracy: {train_accuracy:.1f}%\")\n",
    "print(f\"Test accuracy: {test_accuracy:.1f}%\")\n",
    "\n",
    "A11 = np.array([train_accuracy, test_accuracy])\n",
    "print(f\"A11 = {A11}\")"
   ]
  },
  {
   "cell_type": "code",
   "execution_count": 30,
   "id": "S_kzRdGtGVQX",
   "metadata": {
    "id": "S_kzRdGtGVQX"
   },
   "outputs": [
    {
     "name": "stdout",
     "output_type": "stream",
     "text": [
      "Train accuracy: 100.0%\n",
      "Test accuracy: 99.6%\n",
      "A12 = [100.   99.6]\n"
     ]
    }
   ],
   "source": [
    "# TODO: Fit a decision tree using the digits 0, 1.\n",
    "X_train, y_train, X_test, y_test = get_digit_data(X_pca, y, [0, 1], 500)\n",
    "\n",
    "tree = DecisionTreeClassifier(random_state=1234)\n",
    "tree.fit(X_train, y_train)\n",
    "\n",
    "y_train_predict = tree.predict(X_train)\n",
    "y_test_predict = tree.predict(X_test)\n",
    "\n",
    "train_accuracy = compute_accuracy(y_train_predict, y_train)\n",
    "test_accuracy = compute_accuracy(y_test_predict, y_test)\n",
    "print(f\"Train accuracy: {train_accuracy:.1f}%\")\n",
    "print(f\"Test accuracy: {test_accuracy:.1f}%\")\n",
    "\n",
    "A12 = np.array([train_accuracy, test_accuracy])\n",
    "print(f\"A12 = {A12}\")"
   ]
  }
 ],
 "metadata": {
  "colab": {
   "provenance": []
  },
  "kernelspec": {
   "display_name": "base",
   "language": "python",
   "name": "python3"
  },
  "language_info": {
   "codemirror_mode": {
    "name": "ipython",
    "version": 3
   },
   "file_extension": ".py",
   "mimetype": "text/x-python",
   "name": "python",
   "nbconvert_exporter": "python",
   "pygments_lexer": "ipython3",
   "version": "3.11.7"
  }
 },
 "nbformat": 4,
 "nbformat_minor": 5
}

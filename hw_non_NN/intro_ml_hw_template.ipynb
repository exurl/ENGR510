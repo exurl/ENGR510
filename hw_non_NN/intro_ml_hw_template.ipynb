{
  "cells": [
    {
      "cell_type": "markdown",
      "id": "b81883aa-cf36-4ac2-b912-b8571fda8201",
      "metadata": {
        "id": "b81883aa-cf36-4ac2-b912-b8571fda8201"
      },
      "source": [
        "# ENGR 510: Introduction to Non-Neural Network ML"
      ]
    },
    {
      "cell_type": "code",
      "execution_count": 1,
      "id": "69673374-e21c-440d-89d0-2d87647db609",
      "metadata": {
        "id": "69673374-e21c-440d-89d0-2d87647db609"
      },
      "outputs": [],
      "source": [
        "import numpy as np\n",
        "import matplotlib.pyplot as plt\n",
        "\n",
        "# For importing the MNIST data set:\n",
        "from sklearn.datasets import fetch_openml\n",
        "\n",
        "# Scikit-learn PCA model:\n",
        "from sklearn.decomposition import PCA\n",
        "\n",
        "# Scikit-learn LDA model:\n",
        "from sklearn.discriminant_analysis import LinearDiscriminantAnalysis\n",
        "\n",
        "# Scikit-learn SVM classifier:\n",
        "from sklearn.svm import LinearSVC\n",
        "\n",
        "# Scikit-learn decision tree classifier:\n",
        "from sklearn.tree import DecisionTreeClassifier"
      ]
    },
    {
      "cell_type": "markdown",
      "id": "a1ce3800-f643-43a5-8348-e47f9b93ca3e",
      "metadata": {
        "id": "a1ce3800-f643-43a5-8348-e47f9b93ca3e"
      },
      "source": [
        "First, let us import and visualize the MNIST data set by running the following code block.\n",
        "\n",
        "**Please run the cell below. DO NOT edit this cell.**"
      ]
    },
    {
      "cell_type": "code",
      "execution_count": null,
      "id": "YmG0bR7DC3ya",
      "metadata": {
        "id": "YmG0bR7DC3ya"
      },
      "outputs": [],
      "source": [
        "# Load the MNIST data:\n",
        "mnist = fetch_openml(\"mnist_784\", parser=\"auto\")\n",
        "X = np.array(mnist.data) / 255.0  # Scale the data to [0, 1]\n",
        "y = np.array(mnist.target)\n",
        "\n",
        "# Print some data information:\n",
        "print(\"MNIST data loaded succesfully!\")\n",
        "print(f\"Image data: X.shape = {X.shape}\")\n",
        "print(f\"Label data: y.shape = {y.shape}\")\n",
        "print()\n",
        "\n",
        "# Plot some of the MNIST images.\n",
        "plt.figure(figsize=(14, 7))\n",
        "for i in range(15):\n",
        "    plt.subplot(3, 5, i + 1)\n",
        "    plt.title(f\"Image {i + 1}\\nLabel = {y[i]}\")\n",
        "    plt.imshow(X[i, :].reshape(28, 28))\n",
        "    plt.colorbar()\n",
        "plt.tight_layout()\n",
        "plt.show()\n",
        "\n",
        "# Mean center the data for PCA.\n",
        "X = X - np.mean(X, axis=0)"
      ]
    },
    {
      "cell_type": "markdown",
      "id": "70a20e63-7374-4749-8f4b-df4cd225a2b0",
      "metadata": {
        "id": "70a20e63-7374-4749-8f4b-df4cd225a2b0"
      },
      "source": [
        "Notice that there are 70,000 images total, with each image being 28 x 28 pixels, or 784 pixels total.\n",
        "\n",
        "Each image comes with a corresponding label, i.e. a number that indicates what digit is inside the image."
      ]
    },
    {
      "cell_type": "markdown",
      "id": "e0c8d3ff-2196-4161-8f3a-f0a560a33f69",
      "metadata": {
        "id": "e0c8d3ff-2196-4161-8f3a-f0a560a33f69"
      },
      "source": [
        "## Part 1: Dimensionality Reduction with PCA"
      ]
    },
    {
      "cell_type": "code",
      "execution_count": 3,
      "id": "ab651a64-f800-443d-ad27-9ff9e5e0134f",
      "metadata": {
        "id": "ab651a64-f800-443d-ad27-9ff9e5e0134f"
      },
      "outputs": [],
      "source": [
        "### TODO: Perform SVD analysis."
      ]
    },
    {
      "cell_type": "code",
      "execution_count": 4,
      "id": "E-C9cjfxC6WZ",
      "metadata": {
        "id": "E-C9cjfxC6WZ"
      },
      "outputs": [],
      "source": [
        "### TODO: Save the first five dominant modes.\n",
        "A1 = ...\n",
        "\n",
        "# # OPTIONAL: Plot columns of V.\n",
        "# plt.figure(figsize=(14, 2))\n",
        "# for i, v in enumerate(A1.T):\n",
        "#     plt.subplot(1, 5, i + 1)\n",
        "#     plt.title(f\"$v_{i + 1}$\")\n",
        "#     plt.imshow(v.reshape(28, 28))\n",
        "#     plt.colorbar()\n",
        "# plt.tight_layout()\n",
        "# plt.show()"
      ]
    },
    {
      "cell_type": "code",
      "execution_count": 5,
      "id": "exX9-VoeDJcX",
      "metadata": {
        "id": "exX9-VoeDJcX"
      },
      "outputs": [],
      "source": [
        "### TODO: Reconstruct the first MNIST image.\n",
        "r_values = [5, 50, 100, 300]\n",
        "x = X[0]\n"
      ]
    },
    {
      "cell_type": "code",
      "execution_count": 6,
      "id": "nWUkjW7fDWVS",
      "metadata": {
        "id": "nWUkjW7fDWVS"
      },
      "outputs": [],
      "source": [
        "### TODO: Plot the singular values.\n",
        "\n",
        "\n",
        "### TODO: Compute the rank truncation r.\n",
        "A2 = ...\n"
      ]
    },
    {
      "cell_type": "code",
      "execution_count": 7,
      "id": "LCU03apFDaH-",
      "metadata": {
        "id": "LCU03apFDaH-"
      },
      "outputs": [],
      "source": [
        "### TODO: Project data onto the 350 leading V modes.\n",
        "X_pca = ...\n",
        "\n",
        "### TODO: Plot projected data in 3-D.\n",
        "### Once you define X_pca, uncomment and run the following plotting code!\n",
        "\n",
        "# num_plot = 500\n",
        "# fig = plt.figure()\n",
        "# ax = fig.add_subplot(projection=\"3d\")\n",
        "# sc = ax.scatter(\n",
        "#     X_pca[:num_plot, 0],\n",
        "#     X_pca[:num_plot, 1],\n",
        "#     X_pca[:num_plot, 2],\n",
        "#     c=y[:num_plot].astype(int),\n",
        "#     cmap=\"tab10\",\n",
        "#     marker=\"o\",\n",
        "# )\n",
        "# plt.colorbar(sc)\n",
        "# plt.show()"
      ]
    },
    {
      "cell_type": "markdown",
      "id": "807e2653-4266-4083-bd8b-d484dc7270e1",
      "metadata": {
        "id": "807e2653-4266-4083-bd8b-d484dc7270e1"
      },
      "source": [
        "## Part 2: MNIST Digit Classification"
      ]
    },
    {
      "cell_type": "markdown",
      "id": "QNf1LEPGDs9r",
      "metadata": {
        "id": "QNf1LEPGDs9r"
      },
      "source": [
        "First, obtain the rank $r=350$ PCA-projected data.\n",
        "\n",
        "**Please run the cell below. DO NOT edit this cell.**"
      ]
    },
    {
      "cell_type": "code",
      "execution_count": null,
      "id": "f-Vx4_lGD9-v",
      "metadata": {
        "id": "f-Vx4_lGD9-v"
      },
      "outputs": [],
      "source": [
        "# Use Scikit-learn PCA model to reduce the data.\n",
        "pca = PCA(n_components=350)\n",
        "X_pca = pca.fit_transform(X)\n",
        "\n",
        "print(f\"PCA image data: X_pca.shape = {X_pca.shape}\")\n",
        "print(f\"Label data: y.shape = {y.shape}\")"
      ]
    },
    {
      "cell_type": "markdown",
      "id": "znAP3zeIECQ9",
      "metadata": {
        "id": "znAP3zeIECQ9"
      },
      "source": [
        "The following code has been provided to help you with digit extraction and train / test splitting.\n",
        "\n",
        "Feel free to use or not use this code, but please read the documentation carefully!"
      ]
    },
    {
      "cell_type": "code",
      "execution_count": null,
      "id": "c11wruXUEVQx",
      "metadata": {
        "id": "c11wruXUEVQx"
      },
      "outputs": [],
      "source": [
        "def get_digit_data(\n",
        "    X: np.ndarray,\n",
        "    y: np.ndarray,\n",
        "    digit_list: list,\n",
        "    n_test: int,\n",
        "):\n",
        "    \"\"\"\n",
        "    Helper function that takes the given data+labels, extracts the data+labels\n",
        "    containing the desired digits, and returns a training / testing data split.\n",
        "\n",
        "    Args:\n",
        "        X = (n_samples, n_features) np.ndarray of data.\n",
        "        y = (n_samples,) np.ndarray of corresponding labels.\n",
        "        digit_list = list of desired MNIST digits to filter out.\n",
        "        n_test = integer number of digits to take for the test set.\n",
        "            The first n_test digits are always taken for the test set.\n",
        "    Returns:\n",
        "        1. (n_train, n_features) np.ndarray of training data.\n",
        "        2. (n_train,) np.ndarray of training data labels.\n",
        "        3. (n_test, n_features) np.ndarray of test data.\n",
        "        4. (n_test,) np.ndarray of test data labels.\n",
        "    \"\"\"\n",
        "    inds_test = np.array([], dtype=int)\n",
        "    inds_train = np.array([], dtype=int)\n",
        "\n",
        "    for digit in digit_list:\n",
        "        digit_inds = np.where(y.astype(int) == digit)[0]\n",
        "        inds_test = np.union1d(inds_test, digit_inds[:n_test])\n",
        "        inds_train = np.union1d(inds_train, digit_inds[n_test:])\n",
        "\n",
        "    return X[inds_train], y[inds_train], X[inds_test], y[inds_test]\n",
        "\n",
        "# EXAMPLE: How to form a training / testing data split on the PCA projected data\n",
        "# using the digits 0, 9 while setting the first 100 samples aside per digit for testing.\n",
        "X_train, y_train, X_test, y_test = get_digit_data(X_pca, y, digit_list=[0, 9], n_test=100)\n",
        "print(f\"Training data: X_train.shape = {X_train.shape}\")\n",
        "print(f\"Training labels: y_train.shape = {y_train.shape} y_train = {y_train}\")\n",
        "print(f\"Testing data: X_test.shape = {X_test.shape}\")\n",
        "print(f\"Testing labels: y_test.shape = {y_test.shape} y_test[:10] = {y_test[:10]}\")"
      ]
    },
    {
      "cell_type": "code",
      "execution_count": 10,
      "id": "H8uk2nVPPyCf",
      "metadata": {
        "id": "H8uk2nVPPyCf"
      },
      "outputs": [],
      "source": [
        "### TODO: Implement classification accuracy percentage.\n",
        "def compute_accuracy(y, y_true):\n",
        "    \"\"\"\n",
        "    Args:\n",
        "        y = (n_samples,) np.ndarray of computed labels.\n",
        "        y_true = (n_samples,) np.ndarray of true labels.\n",
        "    Returns:\n",
        "        Classification accuracy percentage as a float.\n",
        "    \"\"\"\n",
        "    return ..."
      ]
    },
    {
      "cell_type": "code",
      "execution_count": null,
      "id": "9F_A-B6XE_zw",
      "metadata": {
        "id": "9F_A-B6XE_zw"
      },
      "outputs": [],
      "source": [
        "# TODO: Fit an LDA model using the digits 3, 4.\n",
        "X_train, y_train, X_test, y_test = get_digit_data(...)\n",
        "\n",
        "lda = LinearDiscriminantAnalysis()\n",
        "# DO SOMETHING WITH lda!\n",
        "\n",
        "y_train_predict = ...\n",
        "y_test_predict = ...\n",
        "\n",
        "train_accuracy = compute_accuracy(y_train_predict, y_train)\n",
        "test_accuracy = compute_accuracy(y_test_predict, y_test)\n",
        "\n",
        "A3 = np.array([train_accuracy, test_accuracy])"
      ]
    },
    {
      "cell_type": "code",
      "execution_count": null,
      "id": "30w4SR_2FDN1",
      "metadata": {
        "id": "30w4SR_2FDN1"
      },
      "outputs": [],
      "source": [
        "# TODO: Fit an LDA model using the digits 3, 5, 9.\n",
        "X_train, y_train, X_test, y_test = get_digit_data(...)\n",
        "\n",
        "lda = LinearDiscriminantAnalysis()\n",
        "# DO SOMETHING WITH lda!\n",
        "\n",
        "y_train_predict = ...\n",
        "y_test_predict = ...\n",
        "\n",
        "train_accuracy = compute_accuracy(y_train_predict, y_train)\n",
        "test_accuracy = compute_accuracy(y_test_predict, y_test)\n",
        "\n",
        "A4 = np.array([train_accuracy, test_accuracy])"
      ]
    },
    {
      "cell_type": "code",
      "execution_count": null,
      "id": "VXx82tP4FRRK",
      "metadata": {
        "id": "VXx82tP4FRRK"
      },
      "outputs": [],
      "source": [
        "# TODO: Fit an LDA model using all digit pairs.\n"
      ]
    },
    {
      "cell_type": "code",
      "execution_count": null,
      "id": "r-SoySSdFglq",
      "metadata": {
        "id": "r-SoySSdFglq"
      },
      "outputs": [],
      "source": [
        "# TODO: Plot the hardest digit pair and the easiest digit pair.\n"
      ]
    },
    {
      "cell_type": "code",
      "execution_count": null,
      "id": "nZXcbLQRhHo5",
      "metadata": {
        "id": "nZXcbLQRhHo5"
      },
      "outputs": [],
      "source": [
        "# TODO: Fit an SVM model using the digits 7, 9.\n",
        "X_train, y_train, X_test, y_test = get_digit_data(...)\n",
        "\n",
        "svm = LinearSVC()\n",
        "# DO SOMETHING WITH svm!\n",
        "\n",
        "y_train_predict = ...\n",
        "y_test_predict = ...\n",
        "\n",
        "train_accuracy = compute_accuracy(y_train_predict, y_train)\n",
        "test_accuracy = compute_accuracy(y_test_predict, y_test)\n",
        "\n",
        "A9 = np.array([train_accuracy, test_accuracy])"
      ]
    },
    {
      "cell_type": "code",
      "execution_count": null,
      "id": "IHwaEhx4GOy2",
      "metadata": {
        "id": "IHwaEhx4GOy2"
      },
      "outputs": [],
      "source": [
        "# TODO: Fit an SVM model using the digits 1, 6.\n",
        "X_train, y_train, X_test, y_test = get_digit_data(...)\n",
        "\n",
        "svm = LinearSVC()\n",
        "# DO SOMETHING WITH svm!\n",
        "\n",
        "y_train_predict = ...\n",
        "y_test_predict = ...\n",
        "\n",
        "train_accuracy = compute_accuracy(y_train_predict, y_train)\n",
        "test_accuracy = compute_accuracy(y_test_predict, y_test)\n",
        "\n",
        "A10 = np.array([train_accuracy, test_accuracy])"
      ]
    },
    {
      "cell_type": "code",
      "execution_count": null,
      "id": "z52Zxsv4sU77",
      "metadata": {
        "id": "z52Zxsv4sU77"
      },
      "outputs": [],
      "source": [
        "# TODO: Fit a decision tree using the digits 4, 9.\n",
        "X_train, y_train, X_test, y_test = get_digit_data(...)\n",
        "\n",
        "tree = DecisionTreeClassifier(random_state=1234)\n",
        "# DO SOMETHING WITH tree!\n",
        "\n",
        "y_train_predict = ...\n",
        "y_test_predict = ...\n",
        "\n",
        "train_accuracy = compute_accuracy(y_train_predict, y_train)\n",
        "test_accuracy = compute_accuracy(y_test_predict, y_test)\n",
        "\n",
        "A11 = np.array([train_accuracy, test_accuracy])"
      ]
    },
    {
      "cell_type": "code",
      "execution_count": null,
      "id": "S_kzRdGtGVQX",
      "metadata": {
        "id": "S_kzRdGtGVQX"
      },
      "outputs": [],
      "source": [
        "# TODO: Fit a decision tree using the digits 0, 1.\n",
        "X_train, y_train, X_test, y_test = get_digit_data(...)\n",
        "\n",
        "tree = DecisionTreeClassifier(random_state=1234)\n",
        "# DO SOMETHING WITH tree!\n",
        "\n",
        "y_train_predict = ...\n",
        "y_test_predict = ...\n",
        "\n",
        "train_accuracy = compute_accuracy(y_train_predict, y_train)\n",
        "test_accuracy = compute_accuracy(y_test_predict, y_test)\n",
        "\n",
        "A12 = np.array([train_accuracy, test_accuracy])"
      ]
    },
    {
      "cell_type": "code",
      "execution_count": null,
      "id": "NngOt1oyGVjy",
      "metadata": {
        "id": "NngOt1oyGVjy"
      },
      "outputs": [],
      "source": []
    }
  ],
  "metadata": {
    "colab": {
      "provenance": []
    },
    "kernelspec": {
      "display_name": "base",
      "language": "python",
      "name": "python3"
    },
    "language_info": {
      "codemirror_mode": {
        "name": "ipython",
        "version": 3
      },
      "file_extension": ".py",
      "mimetype": "text/x-python",
      "name": "python",
      "nbconvert_exporter": "python",
      "pygments_lexer": "ipython3",
      "version": "3.11.7"
    }
  },
  "nbformat": 4,
  "nbformat_minor": 5
}

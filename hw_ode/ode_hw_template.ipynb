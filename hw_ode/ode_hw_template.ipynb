{
 "cells": [
  {
   "cell_type": "markdown",
   "metadata": {},
   "source": [
    "# ODEs Homework\n",
    "If you see empty brackets, that's a placeholder; fill in the correct expression.\n",
    "\n",
    "All variables marked with a `TODO` will be graded by the autograder.\n",
    "\n",
    "**Due:** Friday October 18th at 11:59pm on Gradescope\n",
    "\n",
    "**Important:** Your code file must be named either `ode_hw.py` or `ode_hw.ipynb` in order for it to be compiled by the autograder. Please check before submitting to Gradescope."
   ]
  },
  {
   "cell_type": "code",
   "execution_count": null,
   "metadata": {},
   "outputs": [],
   "source": [
    "import numpy as np\n",
    "import matplotlib.pyplot as plt\n",
    "from scipy.integrate import solve_ivp"
   ]
  },
  {
   "cell_type": "markdown",
   "metadata": {},
   "source": [
    "### Exercise 3a"
   ]
  },
  {
   "cell_type": "code",
   "execution_count": null,
   "metadata": {},
   "outputs": [],
   "source": [
    "#######\n",
    "# TODO: Define the A matrix\n",
    "#######\n",
    "Aa = np.array()\n",
    "\n",
    "#######\n",
    "# TODO: Compute the eigenvalues\n",
    "#######\n",
    "eigvals_a = [] # should be an np.ndarray of size (2,)"
   ]
  },
  {
   "cell_type": "code",
   "execution_count": null,
   "metadata": {},
   "outputs": [],
   "source": [
    "# Define the system of equations (please try to use matrix form x' = Ax)\n",
    "def odefunc_a(t, y):\n",
    "    A = []\n",
    "    dydt = []\n",
    "    return [dydt]"
   ]
  },
  {
   "cell_type": "code",
   "execution_count": null,
   "metadata": {},
   "outputs": [],
   "source": [
    "# Initial conditions\n",
    "y0 = []  # x(0) = 2, x'(0) = 20\n",
    "\n",
    "# Define time vectors\n",
    "t_span = (0, 10)  # time from 0 to 10\n",
    "t_eval = []  # evaluation points from 0 to 10 with step size 0.1"
   ]
  },
  {
   "cell_type": "code",
   "execution_count": null,
   "metadata": {},
   "outputs": [],
   "source": [
    "# Solve the ODE \n",
    "solution_a = solve_ivp() # fill in arguments\n",
    "\n",
    "#######\n",
    "# TODO: Extract the results; these will be checked by autograder\n",
    "#######\n",
    "t_values = solution_a.t\n",
    "xa = solution_a.y"
   ]
  },
  {
   "cell_type": "code",
   "execution_count": null,
   "metadata": {},
   "outputs": [],
   "source": [
    "# Optional, plot the results"
   ]
  },
  {
   "cell_type": "markdown",
   "metadata": {},
   "source": [
    "### Exercise 3b"
   ]
  },
  {
   "cell_type": "code",
   "execution_count": null,
   "metadata": {},
   "outputs": [],
   "source": [
    "#######\n",
    "# TODO: Define the A matrix\n",
    "#######\n",
    "Ab = np.array()\n",
    "\n",
    "#######\n",
    "# TODO: Compute the eigenvalues\n",
    "#######\n",
    "eigvals_b = [] # should be an np.ndarray of size (2,)"
   ]
  },
  {
   "cell_type": "code",
   "execution_count": null,
   "metadata": {},
   "outputs": [],
   "source": [
    "# Define the system of equations\n",
    "\n",
    "\n",
    "# Solve the ODE\n",
    "solution_b = solve_ivp()\n",
    "\n",
    "#######\n",
    "# TODO: Extract the results; these will be checked by autograder\n",
    "#######\n",
    "t_values = []\n",
    "xb = []"
   ]
  },
  {
   "cell_type": "code",
   "execution_count": null,
   "metadata": {},
   "outputs": [],
   "source": [
    "# Optional, plot the results"
   ]
  },
  {
   "cell_type": "markdown",
   "metadata": {},
   "source": [
    "### Exercise 3c"
   ]
  },
  {
   "cell_type": "code",
   "execution_count": null,
   "metadata": {},
   "outputs": [],
   "source": [
    "#######\n",
    "# TODO: Define the A matrix\n",
    "#######\n",
    "Ac = np.array()\n",
    "\n",
    "#######\n",
    "# TODO: Compute the eigenvalues\n",
    "#######\n",
    "eigvals_c = [] # should be an np.ndarray of size (2,)"
   ]
  },
  {
   "cell_type": "code",
   "execution_count": null,
   "metadata": {},
   "outputs": [],
   "source": [
    "# Define the system of equations\n",
    "\n",
    "\n",
    "# Solve the ODE\n",
    "solution_c = solve_ivp()\n",
    "\n",
    "#######\n",
    "# TODO: Extract the results; these will be checked by autograder\n",
    "#######\n",
    "t_values = []\n",
    "xc = []"
   ]
  },
  {
   "cell_type": "code",
   "execution_count": null,
   "metadata": {},
   "outputs": [],
   "source": [
    "# Optional, plot the results"
   ]
  },
  {
   "cell_type": "code",
   "execution_count": null,
   "metadata": {},
   "outputs": [],
   "source": []
  }
 ],
 "metadata": {
  "kernelspec": {
   "display_name": "Python 3 (ipykernel)",
   "language": "python",
   "name": "python3"
  },
  "language_info": {
   "codemirror_mode": {
    "name": "ipython",
    "version": 3
   },
   "file_extension": ".py",
   "mimetype": "text/x-python",
   "name": "python",
   "nbconvert_exporter": "python",
   "pygments_lexer": "ipython3",
   "version": "3.11.5"
  }
 },
 "nbformat": 4,
 "nbformat_minor": 4
}

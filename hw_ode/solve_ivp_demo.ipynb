{
  "cells": [
    {
      "cell_type": "markdown",
      "id": "f30f1715-9155-49d6-a874-93732575c549",
      "metadata": {
        "id": "f30f1715-9155-49d6-a874-93732575c549"
      },
      "source": [
        "# Evaluating the spring-mass system\n",
        "A [`solve_ivp`](https://docs.scipy.org/doc/scipy/reference/generated/scipy.integrate.solve_ivp.html) demo using the spring-mass system."
      ]
    },
    {
      "cell_type": "code",
      "execution_count": null,
      "id": "399c34bb-8c10-4f69-8031-43cc74c574f5",
      "metadata": {
        "id": "399c34bb-8c10-4f69-8031-43cc74c574f5"
      },
      "outputs": [],
      "source": [
        "# The imports that we're going to need:\n",
        "import numpy as np\n",
        "import matplotlib.pyplot as plt\n",
        "from scipy.integrate import solve_ivp"
      ]
    },
    {
      "cell_type": "markdown",
      "id": "806d1ece-f9eb-4328-8caa-f36322ac1385",
      "metadata": {
        "id": "806d1ece-f9eb-4328-8caa-f36322ac1385"
      },
      "source": [
        "### Our governing equation:\n",
        "$$\n",
        "x''(t) + a x'(t) + b^2 x(t) = 0,\n",
        "$$\n",
        "$$\n",
        "a = 0.1, \\quad\n",
        "b = 1, \\quad\n",
        "x(0) = 0.1, \\quad\n",
        "x'(0) = 0.0\n",
        "$$"
      ]
    },
    {
      "cell_type": "markdown",
      "id": "f11e7f5e-2845-4931-af9b-102945a91bea",
      "metadata": {
        "id": "f11e7f5e-2845-4931-af9b-102945a91bea"
      },
      "source": [
        "### Augmented state vector:\n",
        "$$\n",
        "\\mathbf{y}(t) :=\n",
        "\\begin{bmatrix}\n",
        "x(t) \\\\ x'(t)\n",
        "\\end{bmatrix} =\n",
        "\\begin{bmatrix}\n",
        "y_1(t) \\\\ y_2(t)\n",
        "\\end{bmatrix}\n",
        "$$\n",
        "$$\n",
        "\\mathbf{y}'(t) = f(t, \\mathbf{y}(t))\n",
        "$$"
      ]
    },
    {
      "cell_type": "markdown",
      "id": "02c7898f-342e-4862-af3f-c3e9ac691481",
      "metadata": {
        "id": "02c7898f-342e-4862-af3f-c3e9ac691481"
      },
      "source": [
        "`solve_ivp` needs 3 major things:\n",
        "1) The ODE system defined by y'(t) = f(t, y(t))\n",
        "2) The initial state condition y(0)\n",
        "3) The time window (and possibly the time points) for evaluating y(t)\n",
        "\n",
        "**GOAL:** Evaluate the state y(t) for various time points using only an initial condition and a set of governing differential equations."
      ]
    },
    {
      "cell_type": "code",
      "execution_count": null,
      "id": "15763498-04fa-49bc-a5bf-012f96ca51f5",
      "metadata": {
        "id": "15763498-04fa-49bc-a5bf-012f96ca51f5",
        "outputId": "18f3db6e-8d47-4556-b5b2-6b95031b252b"
      },
      "outputs": [
        {
          "data": {
            "text/plain": [
              "array([ 0.  ,  0.01,  0.02, ...,  9.98,  9.99, 10.  ])"
            ]
          },
          "execution_count": 2,
          "metadata": {},
          "output_type": "execute_result"
        }
      ],
      "source": [
        "# 3) Times for evaluating y(t):\n",
        "# Choose t = 0, 0.01, 0.02, ..., 10\n",
        "t_all_values = np.arange(1001) * 0.01\n",
        "t_start = 0\n",
        "t_end = 10\n",
        "t_all_values"
      ]
    },
    {
      "cell_type": "code",
      "execution_count": null,
      "id": "ecc0b795-705f-487f-878e-02706b7a30c5",
      "metadata": {
        "id": "ecc0b795-705f-487f-878e-02706b7a30c5"
      },
      "outputs": [],
      "source": [
        "# 2) Initial state condition:\n",
        "# Note: This needs to be the same length as your state variable y(t)!\n",
        "my_y0 = np.array([0.1, 0.0])"
      ]
    },
    {
      "cell_type": "code",
      "execution_count": null,
      "id": "c3594c4f-e69f-47d4-ab3d-7d13d50da5ae",
      "metadata": {
        "id": "c3594c4f-e69f-47d4-ab3d-7d13d50da5ae"
      },
      "outputs": [],
      "source": [
        "# 1) The ODE system defined by y'(t) = f(t, y(t))\n",
        "def my_ode(t, y):\n",
        "    # Notes:\n",
        "    # - function needs to be of the form f(t, y).\n",
        "    # Args:\n",
        "    # - t = time, will always just be a number.\n",
        "    # - y = state, will always contain n elements,\n",
        "    #       where n is the number of state variables.\n",
        "    #       In our case, y = [y1, y2] = [x(t), x'(t)].\n",
        "    # Returns:\n",
        "    # - an n-element array, list, etc. that contains the\n",
        "    #   time derivative of each of the state variables.\n",
        "    #   In our case, it must return dy/dt = [dy1/dt, dy2/dt] = [x'(t), x''(t)].\n",
        "\n",
        "    # Define the ODE parameters:\n",
        "    a = 0.1\n",
        "    b = 1\n",
        "\n",
        "    # Grab the individual entries of the state vector:\n",
        "    y1 = y[0]\n",
        "    y2 = y[1]\n",
        "\n",
        "    # Define dy1/dt and dy2/dt, given y1, y2, and t.\n",
        "    dy1dt = y2\n",
        "    dy2dt = -(b ** 2) * y1 - a * y2\n",
        "\n",
        "    # Return the derivatives:\n",
        "    return [dy1dt, dy2dt]"
      ]
    },
    {
      "cell_type": "code",
      "execution_count": null,
      "id": "d8cc6960-05e7-4eb7-8c23-5ba0bc4de556",
      "metadata": {
        "id": "d8cc6960-05e7-4eb7-8c23-5ba0bc4de556",
        "outputId": "2fc856d0-4651-4b8a-af2e-da30c146aa7f"
      },
      "outputs": [
        {
          "data": {
            "text/plain": [
              "  message: The solver successfully reached the end of the integration interval.\n",
              "  success: True\n",
              "   status: 0\n",
              "        t: [ 0.000e+00  1.000e-02 ...  9.990e+00  1.000e+01]\n",
              "        y: [[ 1.000e-01  1.000e-01 ... -5.312e-02 -5.280e-02]\n",
              "            [ 0.000e+00 -9.995e-04 ...  3.199e-02  3.249e-02]]\n",
              "      sol: None\n",
              " t_events: None\n",
              " y_events: None\n",
              "     nfev: 80\n",
              "     njev: 0\n",
              "      nlu: 0"
            ]
          },
          "execution_count": 5,
          "metadata": {},
          "output_type": "execute_result"
        }
      ],
      "source": [
        "# Finally, call solve_ivp!\n",
        "solution = solve_ivp(\n",
        "    fun=my_ode,\n",
        "    t_span=[t_start, t_end],\n",
        "    y0=my_y0,\n",
        "    t_eval=t_all_values,\n",
        ")\n",
        "solution"
      ]
    },
    {
      "cell_type": "code",
      "execution_count": null,
      "id": "570be67c-a81a-4172-8277-4c5955f5b9e5",
      "metadata": {
        "id": "570be67c-a81a-4172-8277-4c5955f5b9e5",
        "outputId": "dd8e19b0-1624-48fe-b9dc-60acda1cafff"
      },
      "outputs": [
        {
          "data": {
            "text/plain": [
              "(2, 1001)"
            ]
          },
          "execution_count": 6,
          "metadata": {},
          "output_type": "execute_result"
        }
      ],
      "source": [
        "# The y attribute of the returned object contains the states evaluated by the solver.\n",
        "# Notice that it has dimension (number_of_states, number_of_time_points).\n",
        "solution.y.shape"
      ]
    },
    {
      "cell_type": "code",
      "execution_count": null,
      "id": "ac928ea3-6577-421c-9ca8-53e2f06b77a3",
      "metadata": {
        "id": "ac928ea3-6577-421c-9ca8-53e2f06b77a3",
        "outputId": "1c841d05-ccfa-4324-88d9-6bae32f1b1bd"
      },
      "outputs": [
        {
          "data": {
            "image/png": "[encoded data removed]",
            "text/plain": [
              "<Figure size 750x375 with 1 Axes>"
            ]
          },
          "metadata": {},
          "output_type": "display_data"
        }
      ],
      "source": [
        "# Since we define our state as y = [x(t), x'(t)],\n",
        "# the first row of y contains our x(t) values, and\n",
        "# the second row of y contains our x'(t) values.\n",
        "x = solution.y[0, :]\n",
        "dx = solution.y[1, :]\n",
        "\n",
        "plt.figure(figsize=(6, 3), dpi=125)\n",
        "plt.plot(t_all_values, x, label=\"x\")\n",
        "plt.plot(t_all_values, dx, label=\"dx/dt\")\n",
        "plt.xlabel(\"Time (t)\")\n",
        "plt.legend()\n",
        "plt.show()"
      ]
    },
    {
      "cell_type": "code",
      "execution_count": null,
      "id": "e524b1c7-5c80-46c8-8eaf-326082b629ef",
      "metadata": {
        "id": "e524b1c7-5c80-46c8-8eaf-326082b629ef"
      },
      "outputs": [],
      "source": []
    }
  ],
  "metadata": {
    "kernelspec": {
      "display_name": "Python 3 (ipykernel)",
      "language": "python",
      "name": "python3"
    },
    "language_info": {
      "codemirror_mode": {
        "name": "ipython",
        "version": 3
      },
      "file_extension": ".py",
      "mimetype": "text/x-python",
      "name": "python",
      "nbconvert_exporter": "python",
      "pygments_lexer": "ipython3",
      "version": "3.11.5"
    },
    "colab": {
      "provenance": []
    }
  },
  "nbformat": 4,
  "nbformat_minor": 5
}
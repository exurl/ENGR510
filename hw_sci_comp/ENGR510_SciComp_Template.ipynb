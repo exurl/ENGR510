{
 "cells": [
  {
   "cell_type": "markdown",
   "id": "598df0b9-30fa-4c86-9e79-5618ca20c981",
   "metadata": {},
   "source": [
    "# ENGR 510: Scientific Computing Homework\n",
    "\n",
    "Due: Friday 10/25 at 11:59pm via Gradescope"
   ]
  },
  {
   "cell_type": "code",
   "execution_count": null,
   "id": "ede5c1bc-18b4-4c6d-b568-fd4285816a31",
   "metadata": {},
   "outputs": [],
   "source": [
    "import numpy as np"
   ]
  },
  {
   "cell_type": "code",
   "execution_count": null,
   "id": "046c6ea3-0962-4154-91eb-4a89afde6830",
   "metadata": {},
   "outputs": [],
   "source": [
    "#######\n",
    "# TODO: Perform Euler method.\n",
    "# A1 = ??? ((2, 1001) numpy.ndarray)\n",
    "#######\n",
    "A1 = ..."
   ]
  },
  {
   "cell_type": "code",
   "execution_count": null,
   "id": "0f0ca800-0298-465c-ba6c-3c3569ffc420",
   "metadata": {},
   "outputs": [],
   "source": [
    "#######\n",
    "# TODO: Apply Trapezoidal rule.\n",
    "# A2 = ??? ((1001,) numpy.ndarray)\n",
    "#######\n",
    "A2 = ...\n",
    "\n",
    "#######\n",
    "# TODO: Apply Simpson's rule.\n",
    "# A3 = ??? ((501,) numpy.ndarray)\n",
    "#######\n",
    "A3 = ..."
   ]
  },
  {
   "cell_type": "code",
   "execution_count": null,
   "id": "ef52b51e-62ec-4b7b-91f2-433a762c8fed",
   "metadata": {},
   "outputs": [],
   "source": [
    "#######\n",
    "# TODO: Perform 2nd-order 1st derivative scheme.\n",
    "# A4 = ??? ((1001,) numpy.ndarray)\n",
    "#######\n",
    "A4 = ...\n",
    "\n",
    "#######\n",
    "# TODO: Perform 4th-order 1st derivative scheme.\n",
    "# A5 = ??? ((1001,) numpy.ndarray)\n",
    "#######\n",
    "A5 = ..."
   ]
  },
  {
   "cell_type": "code",
   "execution_count": null,
   "id": "e8b6dd1d-9222-493d-932c-3f77a52cc493",
   "metadata": {},
   "outputs": [],
   "source": [
    "#######\n",
    "# TODO: Perform 4th-order 2nd derivative scheme.\n",
    "# A6 = ??? ((1001,) numpy.ndarray)\n",
    "#######\n",
    "A6 = ..."
   ]
  },
  {
   "cell_type": "code",
   "execution_count": null,
   "id": "2efc250a-bed3-4aff-87fe-991d8488a16d",
   "metadata": {},
   "outputs": [],
   "source": [
    "#######\n",
    "# TODO: Perform Adams-Bashforth method.\n",
    "# A7 = ??? ((2, 1001) numpy.ndarray)\n",
    "#######\n",
    "A7 = ..."
   ]
  },
  {
   "cell_type": "code",
   "execution_count": null,
   "id": "2d1d23e9-50b7-4515-9169-84e2977949eb",
   "metadata": {},
   "outputs": [],
   "source": [
    "#######\n",
    "# TODO: Perform 2nd-order Runge-Kutta method.\n",
    "# A8 = ??? ((2, 1001) numpy.ndarray)\n",
    "#######\n",
    "A8 = ..."
   ]
  },
  {
   "cell_type": "code",
   "execution_count": null,
   "id": "2a5439c9-2f16-4a6e-b581-90f340a0db26",
   "metadata": {},
   "outputs": [],
   "source": []
  }
 ],
 "metadata": {
  "kernelspec": {
   "display_name": "Python 3 (ipykernel)",
   "language": "python",
   "name": "python3"
  },
  "language_info": {
   "codemirror_mode": {
    "name": "ipython",
    "version": 3
   },
   "file_extension": ".py",
   "mimetype": "text/x-python",
   "name": "python",
   "nbconvert_exporter": "python",
   "pygments_lexer": "ipython3",
   "version": "3.11.5"
  }
 },
 "nbformat": 4,
 "nbformat_minor": 5
}
